{
 "cells": [
  {
   "cell_type": "markdown",
   "id": "fe475a61",
   "metadata": {},
   "source": [
    "# Propensity"
   ]
  },
  {
   "cell_type": "markdown",
   "id": "8a2856c5",
   "metadata": {},
   "source": [
    "Given two Treatments:\n",
    "\n",
    "J<sub>i</sub> = 0 <br>\n",
    "J<sub>i</sub> = 1\n",
    "\n",
    "Propensity(X<sub>i</sub>) = Propensity(J<sub>i</sub> = 1 | X<sub>i</sub>) \n",
    "                          = logit(J<sub>i</sub> = 1 | X<sub>i</sub>) <br>\n",
    "\n",
    "#### Conditional Independence Assumption\n",
    "Y<sub>i0</sub>, Y<sub>i1</sub>  **CI** J<sub>i</sub>| X<sub>i</sub> <br>\n",
    "\n",
    "#### Propensity Score Theorem\n",
    "Y<sub>i0</sub>, Y<sub>i1</sub>  **CI** J<sub>i</sub> | Propensity(X<sub>i</sub>),<br>\n",
    "where **CI** denotes Conditional Independence"
   ]
  },
  {
   "cell_type": "code",
   "execution_count": null,
   "id": "3df6127f",
   "metadata": {},
   "outputs": [],
   "source": []
  }
 ],
 "metadata": {
  "kernelspec": {
   "display_name": "Python 3",
   "language": "python",
   "name": "python3"
  },
  "language_info": {
   "codemirror_mode": {
    "name": "ipython",
    "version": 3
   },
   "file_extension": ".py",
   "mimetype": "text/x-python",
   "name": "python",
   "nbconvert_exporter": "python",
   "pygments_lexer": "ipython3",
   "version": "3.9.5"
  }
 },
 "nbformat": 4,
 "nbformat_minor": 5
}
