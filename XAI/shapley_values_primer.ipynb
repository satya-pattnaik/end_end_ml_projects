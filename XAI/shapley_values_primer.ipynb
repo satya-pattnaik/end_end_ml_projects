{
 "cells": [
  {
   "cell_type": "markdown",
   "id": "b25ada96",
   "metadata": {},
   "source": [
    "# Shapley Value\n",
    "\n",
    "Given a game, a set of players(in a co-alition) and a payoff from the game, we use Shapley values as the expected marginal contribution of a player.\n",
    "\n",
    "This in the context of Machine Learning Explainability - Prediction(of an ML algorith) being a game and the predicted value being the payoff, what is the expected marginal contribution of each player i.e of each feature."
   ]
  },
  {
   "cell_type": "code",
   "execution_count": 1,
   "id": "ce6d2e37",
   "metadata": {},
   "outputs": [],
   "source": [
    "import pandas as pd\n",
    "import math"
   ]
  },
  {
   "cell_type": "markdown",
   "id": "95bc2f9b",
   "metadata": {},
   "source": [
    "## Example\n",
    "\n",
    "Suppose that there are three players now and \n",
    "- v({1}) = 100, \n",
    "- v({2}) =125, \n",
    "- v({3}) = 50, \n",
    "- v({1,2}) = 270, \n",
    "- v({1,3}) = 375, \n",
    "- v({2,3}) = 350 and \n",
    "- v({1,2,3}) = 500. \n",
    "Then we have the following table:"
   ]
  },
  {
   "cell_type": "code",
   "execution_count": 2,
   "id": "e74b0491",
   "metadata": {},
   "outputs": [],
   "source": [
    "NUM_OF_PLAYERS = 3"
   ]
  },
  {
   "cell_type": "markdown",
   "id": "e3d9242b",
   "metadata": {},
   "source": [
    "### Shapley Values for Player 1"
   ]
  },
  {
   "cell_type": "code",
   "execution_count": 3,
   "id": "96c92e6c",
   "metadata": {},
   "outputs": [
    {
     "data": {
      "text/html": [
       "<div>\n",
       "<style scoped>\n",
       "    .dataframe tbody tr th:only-of-type {\n",
       "        vertical-align: middle;\n",
       "    }\n",
       "\n",
       "    .dataframe tbody tr th {\n",
       "        vertical-align: top;\n",
       "    }\n",
       "\n",
       "    .dataframe thead th {\n",
       "        text-align: right;\n",
       "    }\n",
       "</style>\n",
       "<table border=\"1\" class=\"dataframe\">\n",
       "  <thead>\n",
       "    <tr style=\"text-align: right;\">\n",
       "      <th></th>\n",
       "      <th>order</th>\n",
       "      <th>coalition_before_joined_rep</th>\n",
       "      <th>coalition_before_joined</th>\n",
       "      <th>coalition_after_joined_rep</th>\n",
       "      <th>coalition_after_joined</th>\n",
       "      <th>marginal_contribution</th>\n",
       "    </tr>\n",
       "  </thead>\n",
       "  <tbody>\n",
       "    <tr>\n",
       "      <th>0</th>\n",
       "      <td>1-&gt;2-&gt;3</td>\n",
       "      <td>No join</td>\n",
       "      <td>0</td>\n",
       "      <td>1 has joined - v({1})</td>\n",
       "      <td>100</td>\n",
       "      <td>100</td>\n",
       "    </tr>\n",
       "    <tr>\n",
       "      <th>1</th>\n",
       "      <td>1-&gt;3-&gt;2</td>\n",
       "      <td>No join</td>\n",
       "      <td>0</td>\n",
       "      <td>1 has joined - v({1})</td>\n",
       "      <td>100</td>\n",
       "      <td>100</td>\n",
       "    </tr>\n",
       "    <tr>\n",
       "      <th>2</th>\n",
       "      <td>2-&gt;1-&gt;3</td>\n",
       "      <td>2 has joined - v({2})</td>\n",
       "      <td>125</td>\n",
       "      <td>2 and 1 joined - v({1,2})</td>\n",
       "      <td>270</td>\n",
       "      <td>145</td>\n",
       "    </tr>\n",
       "    <tr>\n",
       "      <th>3</th>\n",
       "      <td>2-&gt;3-&gt;1</td>\n",
       "      <td>Both 2 and 3 joined - v({2,3})</td>\n",
       "      <td>350</td>\n",
       "      <td>2, 3 and 1 joined - v({1,2,3})</td>\n",
       "      <td>500</td>\n",
       "      <td>150</td>\n",
       "    </tr>\n",
       "    <tr>\n",
       "      <th>4</th>\n",
       "      <td>3-&gt;1-&gt;2</td>\n",
       "      <td>3 has joined - v({3})</td>\n",
       "      <td>50</td>\n",
       "      <td>3 and 1 joined - v({1,3})</td>\n",
       "      <td>375</td>\n",
       "      <td>325</td>\n",
       "    </tr>\n",
       "  </tbody>\n",
       "</table>\n",
       "</div>"
      ],
      "text/plain": [
       "     order     coalition_before_joined_rep  coalition_before_joined  \\\n",
       "0  1->2->3                         No join                        0   \n",
       "1  1->3->2                         No join                        0   \n",
       "2  2->1->3           2 has joined - v({2})                      125   \n",
       "3  2->3->1  Both 2 and 3 joined - v({2,3})                      350   \n",
       "4  3->1->2           3 has joined - v({3})                       50   \n",
       "\n",
       "       coalition_after_joined_rep  coalition_after_joined  \\\n",
       "0           1 has joined - v({1})                     100   \n",
       "1           1 has joined - v({1})                     100   \n",
       "2       2 and 1 joined - v({1,2})                     270   \n",
       "3  2, 3 and 1 joined - v({1,2,3})                     500   \n",
       "4       3 and 1 joined - v({1,3})                     375   \n",
       "\n",
       "   marginal_contribution  \n",
       "0                    100  \n",
       "1                    100  \n",
       "2                    145  \n",
       "3                    150  \n",
       "4                    325  "
      ]
     },
     "execution_count": 3,
     "metadata": {},
     "output_type": "execute_result"
    }
   ],
   "source": [
    "order = ['1->2->3','1->3->2','2->1->3','2->3->1','3->1->2','3->2->1']\n",
    "\n",
    "coalition_after_joined_rep = [\"1 has joined - v({1})\", \"1 has joined - v({1})\", \"2 and 1 joined - v({1,2})\",\\\n",
    "                              \"2, 3 and 1 joined - v({1,2,3})\",\\\n",
    "                              \"3 and 1 joined - v({1,3})\", \"3, 2 and 1 joined - v({1,2,3})\"]\n",
    "coalition_after_joined = [100, 100, 270, 500, 375, 500]\n",
    "\n",
    "coalition_before_joined_rep = [\"No join\", \"No join\", \"2 has joined - v({2})\", \"Both 2 and 3 joined - v({2,3})\",\\\n",
    "                               \"3 has joined - v({3})\", \"Both 3 and 2 joined - v({2,3})\"]\n",
    "coalition_before_joined = [0, 0, 125, 350, 50, 350]\n",
    "\n",
    "\n",
    "df = pd.DataFrame.from_dict({\n",
    "    \"order\":order,\n",
    "    \"coalition_before_joined_rep\":coalition_before_joined_rep,\n",
    "    \"coalition_before_joined\":coalition_before_joined,\n",
    "    \"coalition_after_joined_rep\":coalition_after_joined_rep,\n",
    "    \"coalition_after_joined\":coalition_after_joined\n",
    "})\n",
    "\n",
    "df[\"marginal_contribution\"] = df[\"coalition_after_joined\"] - df[\"coalition_before_joined\"]\n",
    "df.head()"
   ]
  },
  {
   "cell_type": "code",
   "execution_count": 4,
   "id": "ee42129f",
   "metadata": {},
   "outputs": [
    {
     "data": {
      "text/plain": [
       "161.66666666666666"
      ]
     },
     "execution_count": 4,
     "metadata": {},
     "output_type": "execute_result"
    }
   ],
   "source": [
    "shapley_palyer1 = 1/math.factorial(NUM_OF_PLAYERS) * df[\"marginal_contribution\"].sum()\n",
    "shapley_palyer1"
   ]
  },
  {
   "cell_type": "markdown",
   "id": "adf445c6",
   "metadata": {},
   "source": [
    "### Reference http://faculty.econ.ucdavis.edu/faculty/bonanno/teaching/122/Shapley.pdf"
   ]
  }
 ],
 "metadata": {
  "kernelspec": {
   "display_name": "Python 3",
   "language": "python",
   "name": "python3"
  },
  "language_info": {
   "codemirror_mode": {
    "name": "ipython",
    "version": 3
   },
   "file_extension": ".py",
   "mimetype": "text/x-python",
   "name": "python",
   "nbconvert_exporter": "python",
   "pygments_lexer": "ipython3",
   "version": "3.9.5"
  }
 },
 "nbformat": 4,
 "nbformat_minor": 5
}
