{
 "cells": [
  {
   "cell_type": "code",
   "execution_count": 13,
   "id": "2bce060c",
   "metadata": {},
   "outputs": [],
   "source": [
    "import pandas as pd\n",
    "from lightgbm import LGBMClassifier\n",
    "from sklearn.model_selection import train_test_split\n",
    "from yellowbrick.classifier.rocauc import roc_auc\n",
    "from yellowbrick.contrib.wrapper import wrap,CLASSIFIER"
   ]
  },
  {
   "cell_type": "code",
   "execution_count": 14,
   "id": "cf07cb1d",
   "metadata": {},
   "outputs": [
    {
     "data": {
      "text/html": [
       "<div>\n",
       "<style scoped>\n",
       "    .dataframe tbody tr th:only-of-type {\n",
       "        vertical-align: middle;\n",
       "    }\n",
       "\n",
       "    .dataframe tbody tr th {\n",
       "        vertical-align: top;\n",
       "    }\n",
       "\n",
       "    .dataframe thead th {\n",
       "        text-align: right;\n",
       "    }\n",
       "</style>\n",
       "<table border=\"1\" class=\"dataframe\">\n",
       "  <thead>\n",
       "    <tr style=\"text-align: right;\">\n",
       "      <th></th>\n",
       "      <th>checking_status</th>\n",
       "      <th>duration</th>\n",
       "      <th>credit_history</th>\n",
       "      <th>purpose</th>\n",
       "      <th>credit_amount</th>\n",
       "      <th>savings_status</th>\n",
       "      <th>employment</th>\n",
       "      <th>installment_commitment</th>\n",
       "      <th>personal_status</th>\n",
       "      <th>other_parties</th>\n",
       "      <th>...</th>\n",
       "      <th>property_magnitude</th>\n",
       "      <th>age</th>\n",
       "      <th>other_payment_plans</th>\n",
       "      <th>housing</th>\n",
       "      <th>existing_credits</th>\n",
       "      <th>job</th>\n",
       "      <th>num_dependents</th>\n",
       "      <th>own_telephone</th>\n",
       "      <th>foreign_worker</th>\n",
       "      <th>class</th>\n",
       "    </tr>\n",
       "  </thead>\n",
       "  <tbody>\n",
       "    <tr>\n",
       "      <th>0</th>\n",
       "      <td>&lt;0</td>\n",
       "      <td>6</td>\n",
       "      <td>critical/other existing credit</td>\n",
       "      <td>radio/tv</td>\n",
       "      <td>1169</td>\n",
       "      <td>no known savings</td>\n",
       "      <td>&gt;=7</td>\n",
       "      <td>4</td>\n",
       "      <td>male single</td>\n",
       "      <td>none</td>\n",
       "      <td>...</td>\n",
       "      <td>real estate</td>\n",
       "      <td>67</td>\n",
       "      <td>none</td>\n",
       "      <td>own</td>\n",
       "      <td>2</td>\n",
       "      <td>skilled</td>\n",
       "      <td>1</td>\n",
       "      <td>yes</td>\n",
       "      <td>yes</td>\n",
       "      <td>good</td>\n",
       "    </tr>\n",
       "    <tr>\n",
       "      <th>1</th>\n",
       "      <td>0&lt;=X&lt;200</td>\n",
       "      <td>48</td>\n",
       "      <td>existing paid</td>\n",
       "      <td>radio/tv</td>\n",
       "      <td>5951</td>\n",
       "      <td>&lt;100</td>\n",
       "      <td>1&lt;=X&lt;4</td>\n",
       "      <td>2</td>\n",
       "      <td>female div/dep/mar</td>\n",
       "      <td>none</td>\n",
       "      <td>...</td>\n",
       "      <td>real estate</td>\n",
       "      <td>22</td>\n",
       "      <td>none</td>\n",
       "      <td>own</td>\n",
       "      <td>1</td>\n",
       "      <td>skilled</td>\n",
       "      <td>1</td>\n",
       "      <td>none</td>\n",
       "      <td>yes</td>\n",
       "      <td>bad</td>\n",
       "    </tr>\n",
       "    <tr>\n",
       "      <th>2</th>\n",
       "      <td>no checking</td>\n",
       "      <td>12</td>\n",
       "      <td>critical/other existing credit</td>\n",
       "      <td>education</td>\n",
       "      <td>2096</td>\n",
       "      <td>&lt;100</td>\n",
       "      <td>4&lt;=X&lt;7</td>\n",
       "      <td>2</td>\n",
       "      <td>male single</td>\n",
       "      <td>none</td>\n",
       "      <td>...</td>\n",
       "      <td>real estate</td>\n",
       "      <td>49</td>\n",
       "      <td>none</td>\n",
       "      <td>own</td>\n",
       "      <td>1</td>\n",
       "      <td>unskilled resident</td>\n",
       "      <td>2</td>\n",
       "      <td>none</td>\n",
       "      <td>yes</td>\n",
       "      <td>good</td>\n",
       "    </tr>\n",
       "    <tr>\n",
       "      <th>3</th>\n",
       "      <td>&lt;0</td>\n",
       "      <td>42</td>\n",
       "      <td>existing paid</td>\n",
       "      <td>furniture/equipment</td>\n",
       "      <td>7882</td>\n",
       "      <td>&lt;100</td>\n",
       "      <td>4&lt;=X&lt;7</td>\n",
       "      <td>2</td>\n",
       "      <td>male single</td>\n",
       "      <td>guarantor</td>\n",
       "      <td>...</td>\n",
       "      <td>life insurance</td>\n",
       "      <td>45</td>\n",
       "      <td>none</td>\n",
       "      <td>for free</td>\n",
       "      <td>1</td>\n",
       "      <td>skilled</td>\n",
       "      <td>2</td>\n",
       "      <td>none</td>\n",
       "      <td>yes</td>\n",
       "      <td>good</td>\n",
       "    </tr>\n",
       "    <tr>\n",
       "      <th>4</th>\n",
       "      <td>&lt;0</td>\n",
       "      <td>24</td>\n",
       "      <td>delayed previously</td>\n",
       "      <td>new car</td>\n",
       "      <td>4870</td>\n",
       "      <td>&lt;100</td>\n",
       "      <td>1&lt;=X&lt;4</td>\n",
       "      <td>3</td>\n",
       "      <td>male single</td>\n",
       "      <td>none</td>\n",
       "      <td>...</td>\n",
       "      <td>no known property</td>\n",
       "      <td>53</td>\n",
       "      <td>none</td>\n",
       "      <td>for free</td>\n",
       "      <td>2</td>\n",
       "      <td>skilled</td>\n",
       "      <td>2</td>\n",
       "      <td>none</td>\n",
       "      <td>yes</td>\n",
       "      <td>bad</td>\n",
       "    </tr>\n",
       "  </tbody>\n",
       "</table>\n",
       "<p>5 rows × 21 columns</p>\n",
       "</div>"
      ],
      "text/plain": [
       "  checking_status  duration                  credit_history  \\\n",
       "0              <0         6  critical/other existing credit   \n",
       "1        0<=X<200        48                   existing paid   \n",
       "2     no checking        12  critical/other existing credit   \n",
       "3              <0        42                   existing paid   \n",
       "4              <0        24              delayed previously   \n",
       "\n",
       "               purpose  credit_amount    savings_status employment  \\\n",
       "0             radio/tv           1169  no known savings        >=7   \n",
       "1             radio/tv           5951              <100     1<=X<4   \n",
       "2            education           2096              <100     4<=X<7   \n",
       "3  furniture/equipment           7882              <100     4<=X<7   \n",
       "4              new car           4870              <100     1<=X<4   \n",
       "\n",
       "   installment_commitment     personal_status other_parties  ...  \\\n",
       "0                       4         male single          none  ...   \n",
       "1                       2  female div/dep/mar          none  ...   \n",
       "2                       2         male single          none  ...   \n",
       "3                       2         male single     guarantor  ...   \n",
       "4                       3         male single          none  ...   \n",
       "\n",
       "   property_magnitude age  other_payment_plans   housing existing_credits  \\\n",
       "0         real estate  67                 none       own                2   \n",
       "1         real estate  22                 none       own                1   \n",
       "2         real estate  49                 none       own                1   \n",
       "3      life insurance  45                 none  for free                1   \n",
       "4   no known property  53                 none  for free                2   \n",
       "\n",
       "                  job num_dependents  own_telephone foreign_worker class  \n",
       "0             skilled              1            yes            yes  good  \n",
       "1             skilled              1           none            yes   bad  \n",
       "2  unskilled resident              2           none            yes  good  \n",
       "3             skilled              2           none            yes  good  \n",
       "4             skilled              2           none            yes   bad  \n",
       "\n",
       "[5 rows x 21 columns]"
      ]
     },
     "execution_count": 14,
     "metadata": {},
     "output_type": "execute_result"
    }
   ],
   "source": [
    "df = pd.read_csv(\"credit-g_csv.csv\")\n",
    "df.head()"
   ]
  },
  {
   "cell_type": "code",
   "execution_count": 15,
   "id": "8affcf61",
   "metadata": {},
   "outputs": [
    {
     "data": {
      "text/plain": [
       "Index(['checking_status', 'duration', 'credit_history', 'purpose',\n",
       "       'credit_amount', 'savings_status', 'employment',\n",
       "       'installment_commitment', 'personal_status', 'other_parties',\n",
       "       'residence_since', 'property_magnitude', 'age', 'other_payment_plans',\n",
       "       'housing', 'existing_credits', 'job', 'num_dependents', 'own_telephone',\n",
       "       'foreign_worker', 'class'],\n",
       "      dtype='object')"
      ]
     },
     "execution_count": 15,
     "metadata": {},
     "output_type": "execute_result"
    }
   ],
   "source": [
    "df.columns"
   ]
  },
  {
   "cell_type": "code",
   "execution_count": 16,
   "id": "0d8b6371",
   "metadata": {},
   "outputs": [],
   "source": [
    "continious_cols = ['credit_amount', 'age']\n",
    "df.loc[:,~df.columns.isin(continious_cols)] = df.loc[:,~df.columns.isin(continious_cols)].apply(\n",
    "                                                                                    pd.Categorical\n",
    "                                                                                    )\n",
    "for each_col in df.loc[:,~df.columns.isin(continious_cols)].columns:\n",
    "    df[each_col] = df[each_col].cat.codes"
   ]
  },
  {
   "cell_type": "code",
   "execution_count": 17,
   "id": "107eefba",
   "metadata": {},
   "outputs": [
    {
     "data": {
      "text/plain": [
       "checking_status            int8\n",
       "duration                   int8\n",
       "credit_history             int8\n",
       "purpose                    int8\n",
       "credit_amount             int64\n",
       "savings_status             int8\n",
       "employment                 int8\n",
       "installment_commitment     int8\n",
       "personal_status            int8\n",
       "other_parties              int8\n",
       "residence_since            int8\n",
       "property_magnitude         int8\n",
       "age                       int64\n",
       "other_payment_plans        int8\n",
       "housing                    int8\n",
       "existing_credits           int8\n",
       "job                        int8\n",
       "num_dependents             int8\n",
       "own_telephone              int8\n",
       "foreign_worker             int8\n",
       "class                      int8\n",
       "dtype: object"
      ]
     },
     "execution_count": 17,
     "metadata": {},
     "output_type": "execute_result"
    }
   ],
   "source": [
    "df.head().dtypes"
   ]
  },
  {
   "cell_type": "code",
   "execution_count": 18,
   "id": "7a122fdd",
   "metadata": {},
   "outputs": [
    {
     "data": {
      "text/plain": [
       "0    633\n",
       "1    333\n",
       "2     28\n",
       "3      6\n",
       "Name: existing_credits, dtype: int64"
      ]
     },
     "execution_count": 18,
     "metadata": {},
     "output_type": "execute_result"
    }
   ],
   "source": [
    "df['existing_credits'].value_counts()"
   ]
  },
  {
   "cell_type": "code",
   "execution_count": 19,
   "id": "d8271679",
   "metadata": {},
   "outputs": [
    {
     "data": {
      "text/html": [
       "<div>\n",
       "<style scoped>\n",
       "    .dataframe tbody tr th:only-of-type {\n",
       "        vertical-align: middle;\n",
       "    }\n",
       "\n",
       "    .dataframe tbody tr th {\n",
       "        vertical-align: top;\n",
       "    }\n",
       "\n",
       "    .dataframe thead th {\n",
       "        text-align: right;\n",
       "    }\n",
       "</style>\n",
       "<table border=\"1\" class=\"dataframe\">\n",
       "  <thead>\n",
       "    <tr style=\"text-align: right;\">\n",
       "      <th>personal_status</th>\n",
       "      <th>0</th>\n",
       "      <th>1</th>\n",
       "      <th>2</th>\n",
       "      <th>3</th>\n",
       "    </tr>\n",
       "    <tr>\n",
       "      <th>class</th>\n",
       "      <th></th>\n",
       "      <th></th>\n",
       "      <th></th>\n",
       "      <th></th>\n",
       "    </tr>\n",
       "  </thead>\n",
       "  <tbody>\n",
       "    <tr>\n",
       "      <th>0</th>\n",
       "      <td>0.351613</td>\n",
       "      <td>0.4</td>\n",
       "      <td>0.271739</td>\n",
       "      <td>0.266423</td>\n",
       "    </tr>\n",
       "    <tr>\n",
       "      <th>1</th>\n",
       "      <td>0.648387</td>\n",
       "      <td>0.6</td>\n",
       "      <td>0.728261</td>\n",
       "      <td>0.733577</td>\n",
       "    </tr>\n",
       "  </tbody>\n",
       "</table>\n",
       "</div>"
      ],
      "text/plain": [
       "personal_status         0    1         2         3\n",
       "class                                             \n",
       "0                0.351613  0.4  0.271739  0.266423\n",
       "1                0.648387  0.6  0.728261  0.733577"
      ]
     },
     "execution_count": 19,
     "metadata": {},
     "output_type": "execute_result"
    }
   ],
   "source": [
    "pd.crosstab(df[\"class\"],df['personal_status']).apply(lambda r: r/r.sum(), axis=0)"
   ]
  },
  {
   "cell_type": "code",
   "execution_count": 20,
   "id": "81ac6500",
   "metadata": {},
   "outputs": [
    {
     "data": {
      "text/plain": [
       "<AxesSubplot:ylabel='Frequency'>"
      ]
     },
     "execution_count": 20,
     "metadata": {},
     "output_type": "execute_result"
    },
    {
     "data": {
      "image/png": "[encoded data removed]",
      "text/plain": [
       "<Figure size 576x396 with 1 Axes>"
      ]
     },
     "metadata": {},
     "output_type": "display_data"
    }
   ],
   "source": [
    "df[\"credit_amount\"].plot(kind=\"hist\")"
   ]
  },
  {
   "cell_type": "code",
   "execution_count": 22,
   "id": "5f1e86d4",
   "metadata": {},
   "outputs": [],
   "source": [
    "X_train, X_test, y_train, y_test = train_test_split(\n",
    "                                                df.loc[:,~df.columns.isin(['class'])], \n",
    "                                                df['class'], \n",
    "                                    test_size=0.33, random_state=42)"
   ]
  },
  {
   "cell_type": "code",
   "execution_count": 23,
   "id": "05993372",
   "metadata": {},
   "outputs": [],
   "source": [
    "cols = df.columns.tolist()\n",
    "cat_cols = set(cols).difference(set(continious_cols))\n",
    "cat_cols = list(cat_cols)\n",
    "cat_cols = [df.columns.get_loc(c) for c in cat_cols]\n"
   ]
  },
  {
   "cell_type": "code",
   "execution_count": 36,
   "id": "4abc3889",
   "metadata": {},
   "outputs": [
    {
     "name": "stdout",
     "output_type": "stream",
     "text": [
      "[1]\tvalid_0's binary_logloss: 0.601616\n",
      "[2]\tvalid_0's binary_logloss: 0.587332\n",
      "[3]\tvalid_0's binary_logloss: 0.576203\n",
      "[4]\tvalid_0's binary_logloss: 0.571337\n",
      "[5]\tvalid_0's binary_logloss: 0.562822\n",
      "[6]\tvalid_0's binary_logloss: 0.558583\n",
      "[7]\tvalid_0's binary_logloss: 0.553443\n",
      "[8]\tvalid_0's binary_logloss: 0.549044\n",
      "[9]\tvalid_0's binary_logloss: 0.548876\n",
      "[10]\tvalid_0's binary_logloss: 0.545203\n",
      "[11]\tvalid_0's binary_logloss: 0.545088\n",
      "[12]\tvalid_0's binary_logloss: 0.544506\n",
      "[13]\tvalid_0's binary_logloss: 0.542466\n",
      "[14]\tvalid_0's binary_logloss: 0.542136\n",
      "[15]\tvalid_0's binary_logloss: 0.54349\n",
      "[16]\tvalid_0's binary_logloss: 0.54036\n",
      "[17]\tvalid_0's binary_logloss: 0.538717\n",
      "[18]\tvalid_0's binary_logloss: 0.538231\n",
      "[19]\tvalid_0's binary_logloss: 0.538684\n",
      "[20]\tvalid_0's binary_logloss: 0.537249\n",
      "[21]\tvalid_0's binary_logloss: 0.534635\n",
      "[22]\tvalid_0's binary_logloss: 0.536064\n",
      "[23]\tvalid_0's binary_logloss: 0.537999\n",
      "[24]\tvalid_0's binary_logloss: 0.535762\n",
      "[25]\tvalid_0's binary_logloss: 0.535556\n",
      "[26]\tvalid_0's binary_logloss: 0.534082\n",
      "[27]\tvalid_0's binary_logloss: 0.535613\n",
      "[28]\tvalid_0's binary_logloss: 0.533824\n",
      "[29]\tvalid_0's binary_logloss: 0.534484\n",
      "[30]\tvalid_0's binary_logloss: 0.534665\n",
      "[31]\tvalid_0's binary_logloss: 0.531739\n",
      "[32]\tvalid_0's binary_logloss: 0.53174\n",
      "[33]\tvalid_0's binary_logloss: 0.533455\n",
      "[34]\tvalid_0's binary_logloss: 0.534446\n",
      "[35]\tvalid_0's binary_logloss: 0.53343\n",
      "[36]\tvalid_0's binary_logloss: 0.534032\n",
      "[37]\tvalid_0's binary_logloss: 0.535491\n",
      "[38]\tvalid_0's binary_logloss: 0.537638\n",
      "[39]\tvalid_0's binary_logloss: 0.537464\n",
      "[40]\tvalid_0's binary_logloss: 0.537668\n",
      "[41]\tvalid_0's binary_logloss: 0.538662\n",
      "[42]\tvalid_0's binary_logloss: 0.538867\n",
      "[43]\tvalid_0's binary_logloss: 0.539469\n",
      "[44]\tvalid_0's binary_logloss: 0.539645\n",
      "[45]\tvalid_0's binary_logloss: 0.541178\n",
      "[46]\tvalid_0's binary_logloss: 0.542936\n",
      "[47]\tvalid_0's binary_logloss: 0.542858\n",
      "[48]\tvalid_0's binary_logloss: 0.541504\n",
      "[49]\tvalid_0's binary_logloss: 0.544307\n",
      "[50]\tvalid_0's binary_logloss: 0.546958\n",
      "[51]\tvalid_0's binary_logloss: 0.548118\n",
      "[52]\tvalid_0's binary_logloss: 0.547323\n",
      "[53]\tvalid_0's binary_logloss: 0.547709\n",
      "[54]\tvalid_0's binary_logloss: 0.549429\n",
      "[55]\tvalid_0's binary_logloss: 0.551175\n",
      "[56]\tvalid_0's binary_logloss: 0.550854\n",
      "[57]\tvalid_0's binary_logloss: 0.553747\n",
      "[58]\tvalid_0's binary_logloss: 0.55709\n",
      "[59]\tvalid_0's binary_logloss: 0.557078\n",
      "[60]\tvalid_0's binary_logloss: 0.561255\n",
      "[61]\tvalid_0's binary_logloss: 0.560475\n",
      "[62]\tvalid_0's binary_logloss: 0.561338\n",
      "[63]\tvalid_0's binary_logloss: 0.563643\n",
      "[64]\tvalid_0's binary_logloss: 0.565893\n",
      "[65]\tvalid_0's binary_logloss: 0.568396\n",
      "[66]\tvalid_0's binary_logloss: 0.566934\n",
      "[67]\tvalid_0's binary_logloss: 0.569935\n",
      "[68]\tvalid_0's binary_logloss: 0.567325\n",
      "[69]\tvalid_0's binary_logloss: 0.569997\n",
      "[70]\tvalid_0's binary_logloss: 0.571477\n",
      "[71]\tvalid_0's binary_logloss: 0.572923\n",
      "[72]\tvalid_0's binary_logloss: 0.570894\n",
      "[73]\tvalid_0's binary_logloss: 0.572711\n",
      "[74]\tvalid_0's binary_logloss: 0.572996\n",
      "[75]\tvalid_0's binary_logloss: 0.574576\n",
      "[76]\tvalid_0's binary_logloss: 0.575079\n",
      "[77]\tvalid_0's binary_logloss: 0.577429\n",
      "[78]\tvalid_0's binary_logloss: 0.581588\n",
      "[79]\tvalid_0's binary_logloss: 0.583361\n",
      "[80]\tvalid_0's binary_logloss: 0.584547\n",
      "[81]\tvalid_0's binary_logloss: 0.585587\n",
      "[82]\tvalid_0's binary_logloss: 0.585976\n",
      "[83]\tvalid_0's binary_logloss: 0.588164\n",
      "[84]\tvalid_0's binary_logloss: 0.590453\n",
      "[85]\tvalid_0's binary_logloss: 0.590593\n",
      "[86]\tvalid_0's binary_logloss: 0.589608\n",
      "[87]\tvalid_0's binary_logloss: 0.588221\n",
      "[88]\tvalid_0's binary_logloss: 0.588673\n",
      "[89]\tvalid_0's binary_logloss: 0.590459\n",
      "[90]\tvalid_0's binary_logloss: 0.592802\n",
      "[91]\tvalid_0's binary_logloss: 0.594327\n",
      "[92]\tvalid_0's binary_logloss: 0.5941\n",
      "[93]\tvalid_0's binary_logloss: 0.592952\n",
      "[94]\tvalid_0's binary_logloss: 0.593543\n",
      "[95]\tvalid_0's binary_logloss: 0.595298\n",
      "[96]\tvalid_0's binary_logloss: 0.596713\n",
      "[97]\tvalid_0's binary_logloss: 0.601106\n",
      "[98]\tvalid_0's binary_logloss: 0.599444\n",
      "[99]\tvalid_0's binary_logloss: 0.600529\n",
      "[100]\tvalid_0's binary_logloss: 0.601005\n"
     ]
    },
    {
     "name": "stderr",
     "output_type": "stream",
     "text": [
      "/Users/satyapattnaik/opt/anaconda3/envs/e2eml/lib/python3.9/site-packages/lightgbm/basic.py:1551: UserWarning: Using categorical_feature in Dataset.\n",
      "  warnings.warn('Using categorical_feature in Dataset.')\n",
      "/Users/satyapattnaik/opt/anaconda3/envs/e2eml/lib/python3.9/site-packages/lightgbm/basic.py:1554: UserWarning: categorical_feature in Dataset is overridden.\n",
      "New categorical_feature is [0, 1, 2, 3, 5, 6, 7, 8, 9, 10, 11, 13, 14, 15, 16, 17, 18, 19, 20]\n",
      "  warnings.warn('categorical_feature in Dataset is overridden.\\n'\n",
      "/Users/satyapattnaik/opt/anaconda3/envs/e2eml/lib/python3.9/site-packages/lightgbm/basic.py:1286: UserWarning: Overriding the parameters from Reference Dataset.\n",
      "  warnings.warn('Overriding the parameters from Reference Dataset.')\n",
      "/Users/satyapattnaik/opt/anaconda3/envs/e2eml/lib/python3.9/site-packages/lightgbm/basic.py:1098: UserWarning: categorical_column in param dict is overridden.\n",
      "  warnings.warn('{} in param dict is overridden.'.format(cat_alias))\n"
     ]
    },
    {
     "data": {
      "text/plain": [
       "LGBMClassifier()"
      ]
     },
     "execution_count": 36,
     "metadata": {},
     "output_type": "execute_result"
    }
   ],
   "source": [
    "gbm = LGBMClassifier()\n",
    "gbm.fit(X_train,y_train,\n",
    "       categorical_feature=cat_cols,\n",
    "        eval_set=(X_test, y_test))"
   ]
  },
  {
   "cell_type": "code",
   "execution_count": null,
   "id": "af1c7d3d",
   "metadata": {},
   "outputs": [],
   "source": [
    "help(roc_auc)"
   ]
  },
  {
   "cell_type": "code",
   "execution_count": 37,
   "id": "d45682f2",
   "metadata": {},
   "outputs": [
    {
     "data": {
      "image/png": "[encoded data removed]",
      "text/plain": [
       "<Figure size 576x396 with 2 Axes>"
      ]
     },
     "metadata": {},
     "output_type": "display_data"
    },
    {
     "data": {
      "text/plain": [
       "ClassificationReport(ax=<AxesSubplot:title={'center':'LGBMClassifier Classification Report'}>,\n",
       "                     cmap=<matplotlib.colors.ListedColormap object at 0x7fdad05fae50>,\n",
       "                     estimator=LGBMClassifier(), is_fitted=True)"
      ]
     },
     "execution_count": 37,
     "metadata": {},
     "output_type": "execute_result"
    }
   ],
   "source": [
    "from yellowbrick.classifier.classification_report import classification_report\n",
    "classification_report(gbm, X_train, y_train, X_test, y_test,is_fitted=True)"
   ]
  },
  {
   "cell_type": "code",
   "execution_count": null,
   "id": "70514630",
   "metadata": {},
   "outputs": [],
   "source": []
  },
  {
   "cell_type": "code",
   "execution_count": null,
   "id": "909628ab",
   "metadata": {},
   "outputs": [],
   "source": []
  }
 ],
 "metadata": {
  "kernelspec": {
   "display_name": "Python 3",
   "language": "python",
   "name": "python3"
  },
  "language_info": {
   "codemirror_mode": {
    "name": "ipython",
    "version": 3
   },
   "file_extension": ".py",
   "mimetype": "text/x-python",
   "name": "python",
   "nbconvert_exporter": "python",
   "pygments_lexer": "ipython3",
   "version": "3.9.5"
  }
 },
 "nbformat": 4,
 "nbformat_minor": 5
}
