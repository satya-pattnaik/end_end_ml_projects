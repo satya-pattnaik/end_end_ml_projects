{
 "cells": [
  {
   "cell_type": "code",
   "execution_count": 1,
   "id": "2bce060c",
   "metadata": {},
   "outputs": [],
   "source": [
    "import pandas as pd\n",
    "from lightgbm import LGBMClassifier\n",
    "from sklearn.model_selection import train_test_split\n",
    "from yellowbrick.classifier.rocauc import roc_auc\n",
    "from yellowbrick.contrib.wrapper import wrap,CLASSIFIER\n",
    "from sklearn.metrics import brier_score_loss\n",
    "from sklearn.calibration import CalibratedClassifierCV\n",
    "import dice_ml\n",
    "from yellowbrick.classifier.classification_report import classification_report"
   ]
  },
  {
   "cell_type": "code",
   "execution_count": 2,
   "id": "cf07cb1d",
   "metadata": {},
   "outputs": [
    {
     "data": {
      "text/html": [
       "<div>\n",
       "<style scoped>\n",
       "    .dataframe tbody tr th:only-of-type {\n",
       "        vertical-align: middle;\n",
       "    }\n",
       "\n",
       "    .dataframe tbody tr th {\n",
       "        vertical-align: top;\n",
       "    }\n",
       "\n",
       "    .dataframe thead th {\n",
       "        text-align: right;\n",
       "    }\n",
       "</style>\n",
       "<table border=\"1\" class=\"dataframe\">\n",
       "  <thead>\n",
       "    <tr style=\"text-align: right;\">\n",
       "      <th></th>\n",
       "      <th>checking_status</th>\n",
       "      <th>duration</th>\n",
       "      <th>credit_history</th>\n",
       "      <th>purpose</th>\n",
       "      <th>credit_amount</th>\n",
       "      <th>savings_status</th>\n",
       "      <th>employment</th>\n",
       "      <th>installment_commitment</th>\n",
       "      <th>personal_status</th>\n",
       "      <th>other_parties</th>\n",
       "      <th>...</th>\n",
       "      <th>property_magnitude</th>\n",
       "      <th>age</th>\n",
       "      <th>other_payment_plans</th>\n",
       "      <th>housing</th>\n",
       "      <th>existing_credits</th>\n",
       "      <th>job</th>\n",
       "      <th>num_dependents</th>\n",
       "      <th>own_telephone</th>\n",
       "      <th>foreign_worker</th>\n",
       "      <th>class</th>\n",
       "    </tr>\n",
       "  </thead>\n",
       "  <tbody>\n",
       "    <tr>\n",
       "      <th>0</th>\n",
       "      <td>&lt;0</td>\n",
       "      <td>6</td>\n",
       "      <td>critical/other existing credit</td>\n",
       "      <td>radio/tv</td>\n",
       "      <td>1169</td>\n",
       "      <td>no known savings</td>\n",
       "      <td>&gt;=7</td>\n",
       "      <td>4</td>\n",
       "      <td>male single</td>\n",
       "      <td>none</td>\n",
       "      <td>...</td>\n",
       "      <td>real estate</td>\n",
       "      <td>67</td>\n",
       "      <td>none</td>\n",
       "      <td>own</td>\n",
       "      <td>2</td>\n",
       "      <td>skilled</td>\n",
       "      <td>1</td>\n",
       "      <td>yes</td>\n",
       "      <td>yes</td>\n",
       "      <td>good</td>\n",
       "    </tr>\n",
       "    <tr>\n",
       "      <th>1</th>\n",
       "      <td>0&lt;=X&lt;200</td>\n",
       "      <td>48</td>\n",
       "      <td>existing paid</td>\n",
       "      <td>radio/tv</td>\n",
       "      <td>5951</td>\n",
       "      <td>&lt;100</td>\n",
       "      <td>1&lt;=X&lt;4</td>\n",
       "      <td>2</td>\n",
       "      <td>female div/dep/mar</td>\n",
       "      <td>none</td>\n",
       "      <td>...</td>\n",
       "      <td>real estate</td>\n",
       "      <td>22</td>\n",
       "      <td>none</td>\n",
       "      <td>own</td>\n",
       "      <td>1</td>\n",
       "      <td>skilled</td>\n",
       "      <td>1</td>\n",
       "      <td>none</td>\n",
       "      <td>yes</td>\n",
       "      <td>bad</td>\n",
       "    </tr>\n",
       "    <tr>\n",
       "      <th>2</th>\n",
       "      <td>no checking</td>\n",
       "      <td>12</td>\n",
       "      <td>critical/other existing credit</td>\n",
       "      <td>education</td>\n",
       "      <td>2096</td>\n",
       "      <td>&lt;100</td>\n",
       "      <td>4&lt;=X&lt;7</td>\n",
       "      <td>2</td>\n",
       "      <td>male single</td>\n",
       "      <td>none</td>\n",
       "      <td>...</td>\n",
       "      <td>real estate</td>\n",
       "      <td>49</td>\n",
       "      <td>none</td>\n",
       "      <td>own</td>\n",
       "      <td>1</td>\n",
       "      <td>unskilled resident</td>\n",
       "      <td>2</td>\n",
       "      <td>none</td>\n",
       "      <td>yes</td>\n",
       "      <td>good</td>\n",
       "    </tr>\n",
       "    <tr>\n",
       "      <th>3</th>\n",
       "      <td>&lt;0</td>\n",
       "      <td>42</td>\n",
       "      <td>existing paid</td>\n",
       "      <td>furniture/equipment</td>\n",
       "      <td>7882</td>\n",
       "      <td>&lt;100</td>\n",
       "      <td>4&lt;=X&lt;7</td>\n",
       "      <td>2</td>\n",
       "      <td>male single</td>\n",
       "      <td>guarantor</td>\n",
       "      <td>...</td>\n",
       "      <td>life insurance</td>\n",
       "      <td>45</td>\n",
       "      <td>none</td>\n",
       "      <td>for free</td>\n",
       "      <td>1</td>\n",
       "      <td>skilled</td>\n",
       "      <td>2</td>\n",
       "      <td>none</td>\n",
       "      <td>yes</td>\n",
       "      <td>good</td>\n",
       "    </tr>\n",
       "    <tr>\n",
       "      <th>4</th>\n",
       "      <td>&lt;0</td>\n",
       "      <td>24</td>\n",
       "      <td>delayed previously</td>\n",
       "      <td>new car</td>\n",
       "      <td>4870</td>\n",
       "      <td>&lt;100</td>\n",
       "      <td>1&lt;=X&lt;4</td>\n",
       "      <td>3</td>\n",
       "      <td>male single</td>\n",
       "      <td>none</td>\n",
       "      <td>...</td>\n",
       "      <td>no known property</td>\n",
       "      <td>53</td>\n",
       "      <td>none</td>\n",
       "      <td>for free</td>\n",
       "      <td>2</td>\n",
       "      <td>skilled</td>\n",
       "      <td>2</td>\n",
       "      <td>none</td>\n",
       "      <td>yes</td>\n",
       "      <td>bad</td>\n",
       "    </tr>\n",
       "  </tbody>\n",
       "</table>\n",
       "<p>5 rows × 21 columns</p>\n",
       "</div>"
      ],
      "text/plain": [
       "  checking_status  duration                  credit_history  \\\n",
       "0              <0         6  critical/other existing credit   \n",
       "1        0<=X<200        48                   existing paid   \n",
       "2     no checking        12  critical/other existing credit   \n",
       "3              <0        42                   existing paid   \n",
       "4              <0        24              delayed previously   \n",
       "\n",
       "               purpose  credit_amount    savings_status employment  \\\n",
       "0             radio/tv           1169  no known savings        >=7   \n",
       "1             radio/tv           5951              <100     1<=X<4   \n",
       "2            education           2096              <100     4<=X<7   \n",
       "3  furniture/equipment           7882              <100     4<=X<7   \n",
       "4              new car           4870              <100     1<=X<4   \n",
       "\n",
       "   installment_commitment     personal_status other_parties  ...  \\\n",
       "0                       4         male single          none  ...   \n",
       "1                       2  female div/dep/mar          none  ...   \n",
       "2                       2         male single          none  ...   \n",
       "3                       2         male single     guarantor  ...   \n",
       "4                       3         male single          none  ...   \n",
       "\n",
       "   property_magnitude age  other_payment_plans   housing existing_credits  \\\n",
       "0         real estate  67                 none       own                2   \n",
       "1         real estate  22                 none       own                1   \n",
       "2         real estate  49                 none       own                1   \n",
       "3      life insurance  45                 none  for free                1   \n",
       "4   no known property  53                 none  for free                2   \n",
       "\n",
       "                  job num_dependents  own_telephone foreign_worker class  \n",
       "0             skilled              1            yes            yes  good  \n",
       "1             skilled              1           none            yes   bad  \n",
       "2  unskilled resident              2           none            yes  good  \n",
       "3             skilled              2           none            yes  good  \n",
       "4             skilled              2           none            yes   bad  \n",
       "\n",
       "[5 rows x 21 columns]"
      ]
     },
     "execution_count": 2,
     "metadata": {},
     "output_type": "execute_result"
    }
   ],
   "source": [
    "df = pd.read_csv(\"credit-g_csv.csv\")\n",
    "df.head()"
   ]
  },
  {
   "cell_type": "code",
   "execution_count": 3,
   "id": "8affcf61",
   "metadata": {},
   "outputs": [
    {
     "data": {
      "text/plain": [
       "Index(['checking_status', 'duration', 'credit_history', 'purpose',\n",
       "       'credit_amount', 'savings_status', 'employment',\n",
       "       'installment_commitment', 'personal_status', 'other_parties',\n",
       "       'residence_since', 'property_magnitude', 'age', 'other_payment_plans',\n",
       "       'housing', 'existing_credits', 'job', 'num_dependents', 'own_telephone',\n",
       "       'foreign_worker', 'class'],\n",
       "      dtype='object')"
      ]
     },
     "execution_count": 3,
     "metadata": {},
     "output_type": "execute_result"
    }
   ],
   "source": [
    "df.columns"
   ]
  },
  {
   "cell_type": "code",
   "execution_count": 4,
   "id": "0d8b6371",
   "metadata": {},
   "outputs": [],
   "source": [
    "continious_cols = ['credit_amount', 'age']\n",
    "df.loc[:,~df.columns.isin(continious_cols)] = df.loc[:,~df.columns.isin(continious_cols)].apply(\n",
    "                                                                                    pd.Categorical\n",
    "                                                                                    )\n",
    "for each_col in df.loc[:,~df.columns.isin(continious_cols)].columns:\n",
    "    df[each_col] = df[each_col].cat.codes"
   ]
  },
  {
   "cell_type": "code",
   "execution_count": 5,
   "id": "107eefba",
   "metadata": {},
   "outputs": [
    {
     "data": {
      "text/plain": [
       "checking_status            int8\n",
       "duration                   int8\n",
       "credit_history             int8\n",
       "purpose                    int8\n",
       "credit_amount             int64\n",
       "savings_status             int8\n",
       "employment                 int8\n",
       "installment_commitment     int8\n",
       "personal_status            int8\n",
       "other_parties              int8\n",
       "residence_since            int8\n",
       "property_magnitude         int8\n",
       "age                       int64\n",
       "other_payment_plans        int8\n",
       "housing                    int8\n",
       "existing_credits           int8\n",
       "job                        int8\n",
       "num_dependents             int8\n",
       "own_telephone              int8\n",
       "foreign_worker             int8\n",
       "class                      int8\n",
       "dtype: object"
      ]
     },
     "execution_count": 5,
     "metadata": {},
     "output_type": "execute_result"
    }
   ],
   "source": [
    "df.head().dtypes"
   ]
  },
  {
   "cell_type": "code",
   "execution_count": 6,
   "id": "7a122fdd",
   "metadata": {},
   "outputs": [
    {
     "data": {
      "text/plain": [
       "0    633\n",
       "1    333\n",
       "2     28\n",
       "3      6\n",
       "Name: existing_credits, dtype: int64"
      ]
     },
     "execution_count": 6,
     "metadata": {},
     "output_type": "execute_result"
    }
   ],
   "source": [
    "df['existing_credits'].value_counts()"
   ]
  },
  {
   "cell_type": "code",
   "execution_count": 7,
   "id": "d8271679",
   "metadata": {},
   "outputs": [
    {
     "data": {
      "text/html": [
       "<div>\n",
       "<style scoped>\n",
       "    .dataframe tbody tr th:only-of-type {\n",
       "        vertical-align: middle;\n",
       "    }\n",
       "\n",
       "    .dataframe tbody tr th {\n",
       "        vertical-align: top;\n",
       "    }\n",
       "\n",
       "    .dataframe thead th {\n",
       "        text-align: right;\n",
       "    }\n",
       "</style>\n",
       "<table border=\"1\" class=\"dataframe\">\n",
       "  <thead>\n",
       "    <tr style=\"text-align: right;\">\n",
       "      <th>personal_status</th>\n",
       "      <th>0</th>\n",
       "      <th>1</th>\n",
       "      <th>2</th>\n",
       "      <th>3</th>\n",
       "    </tr>\n",
       "    <tr>\n",
       "      <th>class</th>\n",
       "      <th></th>\n",
       "      <th></th>\n",
       "      <th></th>\n",
       "      <th></th>\n",
       "    </tr>\n",
       "  </thead>\n",
       "  <tbody>\n",
       "    <tr>\n",
       "      <th>0</th>\n",
       "      <td>0.351613</td>\n",
       "      <td>0.4</td>\n",
       "      <td>0.271739</td>\n",
       "      <td>0.266423</td>\n",
       "    </tr>\n",
       "    <tr>\n",
       "      <th>1</th>\n",
       "      <td>0.648387</td>\n",
       "      <td>0.6</td>\n",
       "      <td>0.728261</td>\n",
       "      <td>0.733577</td>\n",
       "    </tr>\n",
       "  </tbody>\n",
       "</table>\n",
       "</div>"
      ],
      "text/plain": [
       "personal_status         0    1         2         3\n",
       "class                                             \n",
       "0                0.351613  0.4  0.271739  0.266423\n",
       "1                0.648387  0.6  0.728261  0.733577"
      ]
     },
     "execution_count": 7,
     "metadata": {},
     "output_type": "execute_result"
    }
   ],
   "source": [
    "pd.crosstab(df[\"class\"],df['personal_status']).apply(lambda r: r/r.sum(), axis=0)"
   ]
  },
  {
   "cell_type": "code",
   "execution_count": 8,
   "id": "81ac6500",
   "metadata": {},
   "outputs": [
    {
     "data": {
      "text/plain": [
       "<AxesSubplot:ylabel='Frequency'>"
      ]
     },
     "execution_count": 8,
     "metadata": {},
     "output_type": "execute_result"
    },
    {
     "data": {
      "image/png": "[encoded data removed]",
      "text/plain": [
       "<Figure size 576x396 with 1 Axes>"
      ]
     },
     "metadata": {},
     "output_type": "display_data"
    }
   ],
   "source": [
    "df[\"credit_amount\"].plot(kind=\"hist\")"
   ]
  },
  {
   "cell_type": "code",
   "execution_count": 9,
   "id": "5f1e86d4",
   "metadata": {},
   "outputs": [],
   "source": [
    "X_train, X_test, y_train, y_test = train_test_split(\n",
    "                                                df.loc[:,~df.columns.isin(['class'])], \n",
    "                                                df['class'], \n",
    "                                    test_size=0.33, random_state=42, stratify=df['class'])"
   ]
  },
  {
   "cell_type": "code",
   "execution_count": 10,
   "id": "05993372",
   "metadata": {},
   "outputs": [],
   "source": [
    "cols = df.columns.tolist()\n",
    "cat_cols = set(cols).difference(set(continious_cols))\n",
    "cat_cols = list(cat_cols)\n",
    "cat_cols = [df.columns.get_loc(c) for c in cat_cols]\n"
   ]
  },
  {
   "cell_type": "code",
   "execution_count": 11,
   "id": "4abc3889",
   "metadata": {},
   "outputs": [
    {
     "name": "stdout",
     "output_type": "stream",
     "text": [
      "[1]\tvalid_0's binary_logloss: 0.597565\n",
      "[2]\tvalid_0's binary_logloss: 0.589047\n",
      "[3]\tvalid_0's binary_logloss: 0.580189\n",
      "[4]\tvalid_0's binary_logloss: 0.576233\n",
      "[5]\tvalid_0's binary_logloss: 0.570959\n",
      "[6]\tvalid_0's binary_logloss: 0.569015\n",
      "[7]\tvalid_0's binary_logloss: 0.570683\n",
      "[8]\tvalid_0's binary_logloss: 0.570907\n",
      "[9]\tvalid_0's binary_logloss: 0.573049\n",
      "[10]\tvalid_0's binary_logloss: 0.573385\n",
      "[11]\tvalid_0's binary_logloss: 0.574858\n",
      "[12]\tvalid_0's binary_logloss: 0.574571\n",
      "[13]\tvalid_0's binary_logloss: 0.572535\n",
      "[14]\tvalid_0's binary_logloss: 0.572647\n",
      "[15]\tvalid_0's binary_logloss: 0.57479\n",
      "[16]\tvalid_0's binary_logloss: 0.575659\n",
      "[17]\tvalid_0's binary_logloss: 0.577309\n",
      "[18]\tvalid_0's binary_logloss: 0.57826\n",
      "[19]\tvalid_0's binary_logloss: 0.580215\n",
      "[20]\tvalid_0's binary_logloss: 0.581201\n",
      "[21]\tvalid_0's binary_logloss: 0.582927\n",
      "[22]\tvalid_0's binary_logloss: 0.582811\n",
      "[23]\tvalid_0's binary_logloss: 0.582824\n",
      "[24]\tvalid_0's binary_logloss: 0.586084\n",
      "[25]\tvalid_0's binary_logloss: 0.583383\n",
      "[26]\tvalid_0's binary_logloss: 0.583215\n",
      "[27]\tvalid_0's binary_logloss: 0.584124\n",
      "[28]\tvalid_0's binary_logloss: 0.578393\n",
      "[29]\tvalid_0's binary_logloss: 0.579805\n",
      "[30]\tvalid_0's binary_logloss: 0.578251\n",
      "[31]\tvalid_0's binary_logloss: 0.577946\n",
      "[32]\tvalid_0's binary_logloss: 0.57879\n",
      "[33]\tvalid_0's binary_logloss: 0.579239\n",
      "[34]\tvalid_0's binary_logloss: 0.578879\n",
      "[35]\tvalid_0's binary_logloss: 0.57918\n",
      "[36]\tvalid_0's binary_logloss: 0.577149\n",
      "[37]\tvalid_0's binary_logloss: 0.576592\n",
      "[38]\tvalid_0's binary_logloss: 0.575118\n",
      "[39]\tvalid_0's binary_logloss: 0.573797\n",
      "[40]\tvalid_0's binary_logloss: 0.576214\n",
      "[41]\tvalid_0's binary_logloss: 0.577435\n",
      "[42]\tvalid_0's binary_logloss: 0.577348\n",
      "[43]\tvalid_0's binary_logloss: 0.578547\n",
      "[44]\tvalid_0's binary_logloss: 0.577934\n",
      "[45]\tvalid_0's binary_logloss: 0.575869\n",
      "[46]\tvalid_0's binary_logloss: 0.575578\n",
      "[47]\tvalid_0's binary_logloss: 0.577319\n",
      "[48]\tvalid_0's binary_logloss: 0.579347\n",
      "[49]\tvalid_0's binary_logloss: 0.581226\n",
      "[50]\tvalid_0's binary_logloss: 0.579308\n",
      "[51]\tvalid_0's binary_logloss: 0.576593\n",
      "[52]\tvalid_0's binary_logloss: 0.579737\n",
      "[53]\tvalid_0's binary_logloss: 0.579538\n",
      "[54]\tvalid_0's binary_logloss: 0.581719\n",
      "[55]\tvalid_0's binary_logloss: 0.584466\n",
      "[56]\tvalid_0's binary_logloss: 0.586204\n",
      "[57]\tvalid_0's binary_logloss: 0.585451\n",
      "[58]\tvalid_0's binary_logloss: 0.587789\n",
      "[59]\tvalid_0's binary_logloss: 0.589363\n",
      "[60]\tvalid_0's binary_logloss: 0.588626\n",
      "[61]\tvalid_0's binary_logloss: 0.588494\n",
      "[62]\tvalid_0's binary_logloss: 0.591438\n",
      "[63]\tvalid_0's binary_logloss: 0.591404\n",
      "[64]\tvalid_0's binary_logloss: 0.592342\n",
      "[65]\tvalid_0's binary_logloss: 0.593465\n",
      "[66]\tvalid_0's binary_logloss: 0.592696\n",
      "[67]\tvalid_0's binary_logloss: 0.593199\n",
      "[68]\tvalid_0's binary_logloss: 0.593265\n",
      "[69]\tvalid_0's binary_logloss: 0.593366\n",
      "[70]\tvalid_0's binary_logloss: 0.595397\n",
      "[71]\tvalid_0's binary_logloss: 0.592816\n",
      "[72]\tvalid_0's binary_logloss: 0.594776\n",
      "[73]\tvalid_0's binary_logloss: 0.595481\n",
      "[74]\tvalid_0's binary_logloss: 0.593125\n",
      "[75]\tvalid_0's binary_logloss: 0.594819\n",
      "[76]\tvalid_0's binary_logloss: 0.59599\n",
      "[77]\tvalid_0's binary_logloss: 0.597402\n",
      "[78]\tvalid_0's binary_logloss: 0.598746\n",
      "[79]\tvalid_0's binary_logloss: 0.596965\n",
      "[80]\tvalid_0's binary_logloss: 0.597441\n",
      "[81]\tvalid_0's binary_logloss: 0.597653\n",
      "[82]\tvalid_0's binary_logloss: 0.598868\n",
      "[83]\tvalid_0's binary_logloss: 0.601932\n",
      "[84]\tvalid_0's binary_logloss: 0.600908\n",
      "[85]\tvalid_0's binary_logloss: 0.605106\n",
      "[86]\tvalid_0's binary_logloss: 0.606798\n",
      "[87]\tvalid_0's binary_logloss: 0.608986\n",
      "[88]\tvalid_0's binary_logloss: 0.610396\n",
      "[89]\tvalid_0's binary_logloss: 0.613938\n",
      "[90]\tvalid_0's binary_logloss: 0.614513\n",
      "[91]\tvalid_0's binary_logloss: 0.614077\n",
      "[92]\tvalid_0's binary_logloss: 0.613677\n",
      "[93]\tvalid_0's binary_logloss: 0.614225\n",
      "[94]\tvalid_0's binary_logloss: 0.615434\n",
      "[95]\tvalid_0's binary_logloss: 0.617451\n",
      "[96]\tvalid_0's binary_logloss: 0.618372\n",
      "[97]\tvalid_0's binary_logloss: 0.617444\n",
      "[98]\tvalid_0's binary_logloss: 0.619318\n",
      "[99]\tvalid_0's binary_logloss: 0.620952\n",
      "[100]\tvalid_0's binary_logloss: 0.621726\n"
     ]
    },
    {
     "name": "stderr",
     "output_type": "stream",
     "text": [
      "/Users/satyapattnaik/opt/anaconda3/envs/e2eml/lib/python3.9/site-packages/lightgbm/basic.py:1551: UserWarning: Using categorical_feature in Dataset.\n",
      "  warnings.warn('Using categorical_feature in Dataset.')\n",
      "/Users/satyapattnaik/opt/anaconda3/envs/e2eml/lib/python3.9/site-packages/lightgbm/basic.py:1554: UserWarning: categorical_feature in Dataset is overridden.\n",
      "New categorical_feature is [0, 1, 2, 3, 5, 6, 7, 8, 9, 10, 11, 13, 14, 15, 16, 17, 18, 19, 20]\n",
      "  warnings.warn('categorical_feature in Dataset is overridden.\\n'\n",
      "/Users/satyapattnaik/opt/anaconda3/envs/e2eml/lib/python3.9/site-packages/lightgbm/basic.py:1286: UserWarning: Overriding the parameters from Reference Dataset.\n",
      "  warnings.warn('Overriding the parameters from Reference Dataset.')\n",
      "/Users/satyapattnaik/opt/anaconda3/envs/e2eml/lib/python3.9/site-packages/lightgbm/basic.py:1098: UserWarning: categorical_column in param dict is overridden.\n",
      "  warnings.warn('{} in param dict is overridden.'.format(cat_alias))\n"
     ]
    },
    {
     "data": {
      "text/plain": [
       "LGBMClassifier(is_unbalance=True)"
      ]
     },
     "execution_count": 11,
     "metadata": {},
     "output_type": "execute_result"
    }
   ],
   "source": [
    "gbm = LGBMClassifier(is_unbalance=True)\n",
    "gbm.fit(X_train,y_train,\n",
    "       categorical_feature=cat_cols,\n",
    "        eval_set=(X_test, y_test))"
   ]
  },
  {
   "cell_type": "code",
   "execution_count": 12,
   "id": "af1c7d3d",
   "metadata": {},
   "outputs": [],
   "source": [
    "prob_pos_clf = gbm.predict_proba(X_test)[:, 1]"
   ]
  },
  {
   "cell_type": "code",
   "execution_count": 13,
   "id": "d45682f2",
   "metadata": {},
   "outputs": [
    {
     "data": {
      "image/png": "[encoded data removed]",
      "text/plain": [
       "<Figure size 576x396 with 2 Axes>"
      ]
     },
     "metadata": {},
     "output_type": "display_data"
    },
    {
     "data": {
      "text/plain": [
       "ClassificationReport(ax=<AxesSubplot:title={'center':'LGBMClassifier Classification Report'}>,\n",
       "                     cmap=<matplotlib.colors.ListedColormap object at 0x7fa95bb5fc40>,\n",
       "                     estimator=LGBMClassifier(is_unbalance=True),\n",
       "                     is_fitted=True)"
      ]
     },
     "execution_count": 13,
     "metadata": {},
     "output_type": "execute_result"
    }
   ],
   "source": [
    "\n",
    "classification_report(gbm, X_train, y_train, X_test, y_test,is_fitted=True)"
   ]
  },
  {
   "cell_type": "code",
   "execution_count": 14,
   "id": "33c6c451",
   "metadata": {},
   "outputs": [],
   "source": [
    "clf_isotonic = CalibratedClassifierCV(gbm, cv=2, method='isotonic')\n",
    "clf_isotonic.fit(X_train, y_train,)\n",
    "prob_pos_isotonic = clf_isotonic.predict_proba(X_test)[:, 1]"
   ]
  },
  {
   "cell_type": "code",
   "execution_count": 15,
   "id": "800e5439",
   "metadata": {},
   "outputs": [
    {
     "name": "stdout",
     "output_type": "stream",
     "text": [
      "No calibration: 0.199\n",
      "With isotonic calibration: 0.174\n"
     ]
    }
   ],
   "source": [
    "clf_score = brier_score_loss(y_test, prob_pos_clf)\n",
    "print(\"No calibration: %1.3f\" % clf_score)\n",
    "\n",
    "clf_isotonic_score = brier_score_loss(y_test, prob_pos_isotonic,\n",
    "                                      )\n",
    "print(\"With isotonic calibration: %1.3f\" % clf_isotonic_score)"
   ]
  },
  {
   "cell_type": "code",
   "execution_count": 16,
   "id": "c3ddd3ec",
   "metadata": {},
   "outputs": [
    {
     "data": {
      "text/plain": [
       "['credit_amount', 'age']"
      ]
     },
     "execution_count": 16,
     "metadata": {},
     "output_type": "execute_result"
    }
   ],
   "source": [
    "continious_cols"
   ]
  },
  {
   "cell_type": "code",
   "execution_count": 17,
   "id": "fb213207",
   "metadata": {},
   "outputs": [],
   "source": [
    "\n",
    "\n",
    "d = dice_ml.Data(dataframe=df,\n",
    "                 continuous_features=continious_cols,\n",
    "                 outcome_name='class')\n",
    "# Pre-trained ML model\n",
    "m = dice_ml.Model(model=clf_isotonic, backend='sklearn')\n",
    "# DiCE explanation instance\n",
    "exp = dice_ml.Dice(d,m)"
   ]
  },
  {
   "cell_type": "code",
   "execution_count": null,
   "id": "fd65c876",
   "metadata": {},
   "outputs": [],
   "source": []
  }
 ],
 "metadata": {
  "kernelspec": {
   "display_name": "Python 3",
   "language": "python",
   "name": "python3"
  },
  "language_info": {
   "codemirror_mode": {
    "name": "ipython",
    "version": 3
   },
   "file_extension": ".py",
   "mimetype": "text/x-python",
   "name": "python",
   "nbconvert_exporter": "python",
   "pygments_lexer": "ipython3",
   "version": "3.9.5"
  }
 },
 "nbformat": 4,
 "nbformat_minor": 5
}
